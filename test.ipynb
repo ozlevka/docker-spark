{
 "cells": [
  {
   "cell_type": "code",
   "execution_count": 6,
   "metadata": {},
   "outputs": [],
   "source": [
    "import yfinance\n",
    "\n",
    "tesla = yfinance.Ticker(\"TSLA\")\n",
    "spark.conf.set(\"spark.sql.execution.arrow.enabled\", \"true\")"
   ]
  },
  {
   "cell_type": "code",
   "execution_count": 7,
   "metadata": {
    "tags": []
   },
   "outputs": [],
   "source": [
    "price_df = tesla.history(start=\"2020-05-01\", end=\"2020-07-01\")\n",
    "df = spark.createDataFrame(price_df)"
   ]
  },
  {
   "cell_type": "code",
   "execution_count": 14,
   "metadata": {
    "tags": []
   },
   "outputs": [
    {
     "output_type": "stream",
     "name": "stdout",
     "text": "+-----+------+------+------+--------+---------+------------+\n| Open|  High|   Low| Close|  Volume|Dividends|Stock Splits|\n+-----+------+------+------+--------+---------+------------+\n|755.0|772.77|683.04|701.32|32531800|        0|           0|\n|701.0| 762.0| 698.0|761.19|19237100|        0|           0|\n+-----+------+------+------+--------+---------+------------+\n\n"
    }
   ],
   "source": [
    "df.filter(df.Low < 750).show()\n",
    "\n"
   ]
  },
  {
   "cell_type": "code",
   "execution_count": null,
   "metadata": {},
   "outputs": [],
   "source": []
  }
 ],
 "metadata": {
  "kernelspec": {
   "display_name": "Python 3",
   "language": "python",
   "name": "python3"
  },
  "language_info": {
   "codemirror_mode": {
    "name": "ipython",
    "version": 3
   },
   "file_extension": ".py",
   "mimetype": "text/x-python",
   "name": "python",
   "nbconvert_exporter": "python",
   "pygments_lexer": "ipython3",
   "version": "3.7.7-final"
  }
 },
 "nbformat": 4,
 "nbformat_minor": 2
}